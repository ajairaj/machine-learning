{
 "cells": [
  {
   "cell_type": "code",
   "execution_count": 9,
   "metadata": {},
   "outputs": [],
   "source": [
    "import numpy as np\n",
    "import matplotlib.pyplot as plt\n",
    "import torch\n",
    "import torchvision.datasets as datasets\n",
    "from torchvision import transforms as tvt\n",
    "from torch.utils.data import DataLoader"
   ]
  },
  {
   "cell_type": "code",
   "execution_count": 119,
   "metadata": {},
   "outputs": [],
   "source": [
    "def apply_color(images, labels, biased=False):\n",
    "    colors = np.array(\n",
    "        [[230, 25, 75],\n",
    "        [245, 130, 48],\n",
    "        [255, 225, 25],\n",
    "        [250, 190, 190],\n",
    "        [0, 130, 200],\n",
    "        [230, 190, 255],\n",
    "        [240, 50, 230],\n",
    "        [70, 240, 240],\n",
    "        [60, 180, 75],\n",
    "        [170, 110, 40]])\n",
    "    \n",
    "    if biased:\n",
    "        # assign a random probability to each color, for each class\n",
    "        # each class has a predilection to one color, with a smaller probability of assuming others\n",
    "        bias = np.eye(10) + np.random.randint(0,2,(10,10)) / 100\n",
    "    else:\n",
    "        # for test samples each color should be equally likely\n",
    "        bias = np.ones((10,10))\n",
    "        \n",
    "    # make sure bias sums to 1 across its rows\n",
    "    bias = bias / bias.sum(axis=1,keepdims=1)\n",
    "    \n",
    "    color_labels = np.zeros(labels.shape)\n",
    "    i = 0\n",
    "    for im, lb in zip(images, labels):\n",
    "        # get the color probabilities for this class\n",
    "        color_probs = bias[lb]\n",
    "        color_index = np.random.choice(np.arange(10), p=color_probs)\n",
    "        color_labels[i] = color_index\n",
    "        i = i + 1\n",
    "        color = colors[color_index]\n",
    "\n",
    "        for i in range(3):\n",
    "            im[i,:,:] *= color[i] / 255\n",
    "\n",
    "    color_labels = torch.tensor(color_labels)\n",
    "    return images, color_labels\n",
    "        "
   ]
  },
  {
   "cell_type": "code",
   "execution_count": 115,
   "metadata": {},
   "outputs": [],
   "source": [
    "# create the data loader\n",
    "transform = tvt.Compose([\n",
    "    # convert from PIL to tensor\n",
    "    tvt.ToTensor(), \n",
    "    # convert from gray to rgb\n",
    "    tvt.Lambda(lambda x: x.repeat(3, 1, 1) )\n",
    "])\n",
    "mnist = datasets.MNIST(root='E:/data/datasets/mnist', train=True, download=True, transform=transform)\n",
    "loader = DataLoader(mnist, batch_size=100, shuffle=False)"
   ]
  },
  {
   "cell_type": "code",
   "execution_count": 120,
   "metadata": {},
   "outputs": [
    {
     "data": {
      "text/plain": [
       "<matplotlib.image.AxesImage at 0x289c6f3a9b0>"
      ]
     },
     "execution_count": 120,
     "metadata": {},
     "output_type": "execute_result"
    },
    {
     "data": {
      "image/png": "[encoded data removed]",
      "text/plain": [
       "<Figure size 432x288 with 1 Axes>"
      ]
     },
     "metadata": {
      "needs_background": "light"
     },
     "output_type": "display_data"
    }
   ],
   "source": [
    "# create a 10x20 collage of training samples\n",
    "\n",
    "collage = np.zeros((280,560,3))\n",
    "for i in range(20):\n",
    "    images, labels = next(iter(loader)) \n",
    "    images, colors = apply_color(images, labels, True)\n",
    "    for j in range(10):\n",
    "        ix = np.where(labels == j)[0][0]\n",
    "        im = images[ix]\n",
    "        im = np.swapaxes(im, 0, 1)\n",
    "        im = np.swapaxes(im, 1, 2)\n",
    "        collage[j*28:(j+1)*28, i*28:(i+1)*28, :] = im\n",
    "\n",
    "plt.imshow(collage)"
   ]
  },
  {
   "cell_type": "code",
   "execution_count": null,
   "metadata": {},
   "outputs": [],
   "source": []
  }
 ],
 "metadata": {
  "kernelspec": {
   "display_name": "Python 3",
   "language": "python",
   "name": "python3"
  },
  "language_info": {
   "codemirror_mode": {
    "name": "ipython",
    "version": 3
   },
   "file_extension": ".py",
   "mimetype": "text/x-python",
   "name": "python",
   "nbconvert_exporter": "python",
   "pygments_lexer": "ipython3",
   "version": "3.7.2"
  }
 },
 "nbformat": 4,
 "nbformat_minor": 2
}
